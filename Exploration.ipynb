{
 "cells": [
  {
   "cell_type": "code",
   "execution_count": 56,
   "metadata": {
    "ExecuteTime": {
     "end_time": "2019-11-17T21:59:56.212493Z",
     "start_time": "2019-11-17T21:59:56.164269Z"
    }
   },
   "outputs": [],
   "source": [
    "import pandas as pd\n",
    "import numpy as np\n",
    "import os\n",
    "\n",
    "from script import *\n",
    "\n",
    "# Autoreload \n",
    "%load_ext autoreload\n",
    "%autoreload 2"
   ]
  },
  {
   "cell_type": "markdown",
   "metadata": {},
   "source": [
    "## Exploring number of images and labels"
   ]
  },
  {
   "cell_type": "code",
   "execution_count": 16,
   "metadata": {
    "ExecuteTime": {
     "end_time": "2019-11-17T20:36:00.763496Z",
     "start_time": "2019-11-17T20:36:00.734129Z"
    }
   },
   "outputs": [
    {
     "name": "stdout",
     "output_type": "stream",
     "text": [
      "Number of training images = 1635\n",
      "Number of test images = 439\n",
      "Number of training images with elephants = 1629\n",
      "Number of test images with elephants = 438\n",
      "Number of elephants in training images = 12611\n",
      "Number of elephants in test images = 2970\n"
     ]
    }
   ],
   "source": [
    "# Check number of training and test images\n",
    "trainfiles = next(os.walk(\"../data/training_images\"))[2]\n",
    "print(f\"Number of training images = {len(trainfiles)}\")\n",
    "\n",
    "testfiles = next(os.walk(\"../data/test_images\"))[2]\n",
    "print(f\"Number of test images = {len(testfiles)}\")\n",
    "\n",
    "\n",
    "# Load annotation files\n",
    "train_label = pd.read_csv(\"../data/training_elephants.csv\", header=None)\n",
    "train_label.columns = ['image', 'x', 'y']\n",
    "\n",
    "test_label = pd.read_csv(\"../data/test_elephants.csv\", header=None)\n",
    "test_label.columns = ['image', 'x', 'y']\n",
    "\n",
    "\n",
    "# Check number of training and test images with labeled elephants\n",
    "print(\n",
    "    f\"Number of training images with elephants = {len(set(train_label.image))}\")\n",
    "print(f\"Number of test images with elephants = {len(set(test_label.image))}\")\n",
    "\n",
    "\n",
    "# Check total number of elephants labeled in training and test images\n",
    "print(f\"Number of elephants in training images = {len(train_label)}\")\n",
    "print(f\"Number of elephants in test images = {len(test_label)}\")"
   ]
  },
  {
   "cell_type": "code",
   "execution_count": 57,
   "metadata": {
    "ExecuteTime": {
     "end_time": "2019-11-17T22:00:13.394620Z",
     "start_time": "2019-11-17T22:00:13.367426Z"
    },
    "scrolled": true
   },
   "outputs": [
    {
     "name": "stdout",
     "output_type": "stream",
     "text": [
      "You are all clear of duplicates\n",
      "You are all clear of duplicates\n"
     ]
    }
   ],
   "source": [
    "check_duplicates(train_label)\n",
    "check_duplicates(test_label)"
   ]
  },
  {
   "cell_type": "markdown",
   "metadata": {},
   "source": [
    "## Exploring images metadata"
   ]
  },
  {
   "cell_type": "code",
   "execution_count": 23,
   "metadata": {
    "ExecuteTime": {
     "end_time": "2019-11-17T21:15:24.702990Z",
     "start_time": "2019-11-17T21:15:24.690310Z"
    }
   },
   "outputs": [],
   "source": [
    "# Load metadata files\n",
    "train_metadata = pd.read_csv(\"../data/training_images.csv\", header=None)\n",
    "train_metadata.columns = [\"image_name\", \"sortie_id\", \"width\", \"height\", \"GSD\", \"measured_altitude\", \"terrain_altitude\", \"GPS_Altitude\"]\n",
    "\n",
    "test_metadata = pd.read_csv(\"../data/test_images.csv\", header=None)\n",
    "test_metadata.columns = [\"image_name\", \"sortie_id\", \"width\", \"height\", \"GSD\", \"measured_altitude\", \"terrain_altitude\", \"GPS_Altitude\"]\n"
   ]
  },
  {
   "cell_type": "markdown",
   "metadata": {},
   "source": [
    ">Different altitude measures:\n",
    ">- Measured altitude was determined by an onboard laser altimeter, \n",
    ">- GPS altitude was measured by the camera gps \n",
    ">- Terrain altitude was obtained by using the GPS coordinates in concert with SRTM data."
   ]
  },
  {
   "cell_type": "code",
   "execution_count": 26,
   "metadata": {
    "ExecuteTime": {
     "end_time": "2019-11-17T21:18:12.551675Z",
     "start_time": "2019-11-17T21:18:12.517196Z"
    }
   },
   "outputs": [
    {
     "data": {
      "text/html": [
       "<div>\n",
       "<style scoped>\n",
       "    .dataframe tbody tr th:only-of-type {\n",
       "        vertical-align: middle;\n",
       "    }\n",
       "\n",
       "    .dataframe tbody tr th {\n",
       "        vertical-align: top;\n",
       "    }\n",
       "\n",
       "    .dataframe thead th {\n",
       "        text-align: right;\n",
       "    }\n",
       "</style>\n",
       "<table border=\"1\" class=\"dataframe\">\n",
       "  <thead>\n",
       "    <tr style=\"text-align: right;\">\n",
       "      <th></th>\n",
       "      <th>count</th>\n",
       "      <th>mean</th>\n",
       "      <th>std</th>\n",
       "      <th>min</th>\n",
       "      <th>25%</th>\n",
       "      <th>50%</th>\n",
       "      <th>75%</th>\n",
       "      <th>max</th>\n",
       "    </tr>\n",
       "  </thead>\n",
       "  <tbody>\n",
       "    <tr>\n",
       "      <th>sortie_id</th>\n",
       "      <td>1635.0</td>\n",
       "      <td>52.709480</td>\n",
       "      <td>12.505984</td>\n",
       "      <td>6.000000</td>\n",
       "      <td>53.000000</td>\n",
       "      <td>58.000000</td>\n",
       "      <td>59.000000</td>\n",
       "      <td>64.000000</td>\n",
       "    </tr>\n",
       "    <tr>\n",
       "      <th>width</th>\n",
       "      <td>1635.0</td>\n",
       "      <td>5487.392661</td>\n",
       "      <td>21.190630</td>\n",
       "      <td>5472.000000</td>\n",
       "      <td>5472.000000</td>\n",
       "      <td>5472.000000</td>\n",
       "      <td>5496.000000</td>\n",
       "      <td>5525.000000</td>\n",
       "    </tr>\n",
       "    <tr>\n",
       "      <th>height</th>\n",
       "      <td>1635.0</td>\n",
       "      <td>3660.733945</td>\n",
       "      <td>17.053363</td>\n",
       "      <td>3648.000000</td>\n",
       "      <td>3648.000000</td>\n",
       "      <td>3648.000000</td>\n",
       "      <td>3670.000000</td>\n",
       "      <td>3690.000000</td>\n",
       "    </tr>\n",
       "    <tr>\n",
       "      <th>GSD</th>\n",
       "      <td>1635.0</td>\n",
       "      <td>0.075041</td>\n",
       "      <td>0.031969</td>\n",
       "      <td>0.024298</td>\n",
       "      <td>0.043469</td>\n",
       "      <td>0.082256</td>\n",
       "      <td>0.090752</td>\n",
       "      <td>0.129874</td>\n",
       "    </tr>\n",
       "    <tr>\n",
       "      <th>measured_altitude</th>\n",
       "      <td>1635.0</td>\n",
       "      <td>1529.446972</td>\n",
       "      <td>703.890331</td>\n",
       "      <td>-1.000000</td>\n",
       "      <td>1541.500000</td>\n",
       "      <td>1825.000000</td>\n",
       "      <td>1867.450000</td>\n",
       "      <td>2269.600000</td>\n",
       "    </tr>\n",
       "    <tr>\n",
       "      <th>terrain_altitude</th>\n",
       "      <td>1635.0</td>\n",
       "      <td>733.638532</td>\n",
       "      <td>245.979641</td>\n",
       "      <td>0.000000</td>\n",
       "      <td>624.000000</td>\n",
       "      <td>743.000000</td>\n",
       "      <td>949.500000</td>\n",
       "      <td>1236.000000</td>\n",
       "    </tr>\n",
       "    <tr>\n",
       "      <th>GPS_Altitude</th>\n",
       "      <td>1635.0</td>\n",
       "      <td>1659.967768</td>\n",
       "      <td>513.202749</td>\n",
       "      <td>219.700000</td>\n",
       "      <td>1548.750000</td>\n",
       "      <td>1825.000000</td>\n",
       "      <td>1867.450000</td>\n",
       "      <td>2269.600000</td>\n",
       "    </tr>\n",
       "  </tbody>\n",
       "</table>\n",
       "</div>"
      ],
      "text/plain": [
       "                    count         mean         std          min          25%  \\\n",
       "sortie_id          1635.0    52.709480   12.505984     6.000000    53.000000   \n",
       "width              1635.0  5487.392661   21.190630  5472.000000  5472.000000   \n",
       "height             1635.0  3660.733945   17.053363  3648.000000  3648.000000   \n",
       "GSD                1635.0     0.075041    0.031969     0.024298     0.043469   \n",
       "measured_altitude  1635.0  1529.446972  703.890331    -1.000000  1541.500000   \n",
       "terrain_altitude   1635.0   733.638532  245.979641     0.000000   624.000000   \n",
       "GPS_Altitude       1635.0  1659.967768  513.202749   219.700000  1548.750000   \n",
       "\n",
       "                           50%          75%          max  \n",
       "sortie_id            58.000000    59.000000    64.000000  \n",
       "width              5472.000000  5496.000000  5525.000000  \n",
       "height             3648.000000  3670.000000  3690.000000  \n",
       "GSD                   0.082256     0.090752     0.129874  \n",
       "measured_altitude  1825.000000  1867.450000  2269.600000  \n",
       "terrain_altitude    743.000000   949.500000  1236.000000  \n",
       "GPS_Altitude       1825.000000  1867.450000  2269.600000  "
      ]
     },
     "execution_count": 26,
     "metadata": {},
     "output_type": "execute_result"
    }
   ],
   "source": [
    "train_metadata.describe().T"
   ]
  },
  {
   "cell_type": "code",
   "execution_count": 27,
   "metadata": {
    "ExecuteTime": {
     "end_time": "2019-11-17T21:26:23.628127Z",
     "start_time": "2019-11-17T21:26:23.599245Z"
    }
   },
   "outputs": [
    {
     "data": {
      "text/html": [
       "<div>\n",
       "<style scoped>\n",
       "    .dataframe tbody tr th:only-of-type {\n",
       "        vertical-align: middle;\n",
       "    }\n",
       "\n",
       "    .dataframe tbody tr th {\n",
       "        vertical-align: top;\n",
       "    }\n",
       "\n",
       "    .dataframe thead th {\n",
       "        text-align: right;\n",
       "    }\n",
       "</style>\n",
       "<table border=\"1\" class=\"dataframe\">\n",
       "  <thead>\n",
       "    <tr style=\"text-align: right;\">\n",
       "      <th></th>\n",
       "      <th>count</th>\n",
       "      <th>mean</th>\n",
       "      <th>std</th>\n",
       "      <th>min</th>\n",
       "      <th>25%</th>\n",
       "      <th>50%</th>\n",
       "      <th>75%</th>\n",
       "      <th>max</th>\n",
       "    </tr>\n",
       "  </thead>\n",
       "  <tbody>\n",
       "    <tr>\n",
       "      <th>sortie_id</th>\n",
       "      <td>439.0</td>\n",
       "      <td>52.448747</td>\n",
       "      <td>13.404201</td>\n",
       "      <td>2.000000</td>\n",
       "      <td>53.000000</td>\n",
       "      <td>58.000000</td>\n",
       "      <td>60.0000</td>\n",
       "      <td>64.00000</td>\n",
       "    </tr>\n",
       "    <tr>\n",
       "      <th>width</th>\n",
       "      <td>439.0</td>\n",
       "      <td>5484.920273</td>\n",
       "      <td>18.960919</td>\n",
       "      <td>5472.000000</td>\n",
       "      <td>5472.000000</td>\n",
       "      <td>5472.000000</td>\n",
       "      <td>5496.0000</td>\n",
       "      <td>5525.00000</td>\n",
       "    </tr>\n",
       "    <tr>\n",
       "      <th>height</th>\n",
       "      <td>439.0</td>\n",
       "      <td>3658.902050</td>\n",
       "      <td>15.464703</td>\n",
       "      <td>3648.000000</td>\n",
       "      <td>3648.000000</td>\n",
       "      <td>3648.000000</td>\n",
       "      <td>3670.0000</td>\n",
       "      <td>3690.00000</td>\n",
       "    </tr>\n",
       "    <tr>\n",
       "      <th>GSD</th>\n",
       "      <td>439.0</td>\n",
       "      <td>0.067933</td>\n",
       "      <td>0.028967</td>\n",
       "      <td>0.012327</td>\n",
       "      <td>0.043367</td>\n",
       "      <td>0.056509</td>\n",
       "      <td>0.0846</td>\n",
       "      <td>0.12951</td>\n",
       "    </tr>\n",
       "    <tr>\n",
       "      <th>measured_altitude</th>\n",
       "      <td>439.0</td>\n",
       "      <td>1413.498178</td>\n",
       "      <td>723.743467</td>\n",
       "      <td>0.000000</td>\n",
       "      <td>1517.850000</td>\n",
       "      <td>1656.500000</td>\n",
       "      <td>1861.5500</td>\n",
       "      <td>2263.10000</td>\n",
       "    </tr>\n",
       "    <tr>\n",
       "      <th>terrain_altitude</th>\n",
       "      <td>439.0</td>\n",
       "      <td>755.173121</td>\n",
       "      <td>263.825842</td>\n",
       "      <td>38.000000</td>\n",
       "      <td>626.000000</td>\n",
       "      <td>763.000000</td>\n",
       "      <td>961.0000</td>\n",
       "      <td>1229.00000</td>\n",
       "    </tr>\n",
       "    <tr>\n",
       "      <th>GPS_Altitude</th>\n",
       "      <td>439.0</td>\n",
       "      <td>1572.266970</td>\n",
       "      <td>511.043668</td>\n",
       "      <td>230.800000</td>\n",
       "      <td>1540.550000</td>\n",
       "      <td>1656.500000</td>\n",
       "      <td>1861.5500</td>\n",
       "      <td>2263.10000</td>\n",
       "    </tr>\n",
       "  </tbody>\n",
       "</table>\n",
       "</div>"
      ],
      "text/plain": [
       "                   count         mean         std          min          25%  \\\n",
       "sortie_id          439.0    52.448747   13.404201     2.000000    53.000000   \n",
       "width              439.0  5484.920273   18.960919  5472.000000  5472.000000   \n",
       "height             439.0  3658.902050   15.464703  3648.000000  3648.000000   \n",
       "GSD                439.0     0.067933    0.028967     0.012327     0.043367   \n",
       "measured_altitude  439.0  1413.498178  723.743467     0.000000  1517.850000   \n",
       "terrain_altitude   439.0   755.173121  263.825842    38.000000   626.000000   \n",
       "GPS_Altitude       439.0  1572.266970  511.043668   230.800000  1540.550000   \n",
       "\n",
       "                           50%        75%         max  \n",
       "sortie_id            58.000000    60.0000    64.00000  \n",
       "width              5472.000000  5496.0000  5525.00000  \n",
       "height             3648.000000  3670.0000  3690.00000  \n",
       "GSD                   0.056509     0.0846     0.12951  \n",
       "measured_altitude  1656.500000  1861.5500  2263.10000  \n",
       "terrain_altitude    763.000000   961.0000  1229.00000  \n",
       "GPS_Altitude       1656.500000  1861.5500  2263.10000  "
      ]
     },
     "execution_count": 27,
     "metadata": {},
     "output_type": "execute_result"
    }
   ],
   "source": [
    "test_metadata.describe().T"
   ]
  },
  {
   "cell_type": "code",
   "execution_count": 58,
   "metadata": {
    "ExecuteTime": {
     "end_time": "2019-11-17T22:00:45.534460Z",
     "start_time": "2019-11-17T22:00:35.798864Z"
    },
    "scrolled": true
   },
   "outputs": [],
   "source": [
    "zero_altitude = test_metadata.loc[test_metadata.measured_altitude == 0]\n",
    "zero_images = zero_altitude.image_name\n",
    "\n",
    "show_image(zero_images)"
   ]
  },
  {
   "cell_type": "code",
   "execution_count": 55,
   "metadata": {
    "ExecuteTime": {
     "end_time": "2019-11-17T21:52:17.694440Z",
     "start_time": "2019-11-17T21:52:16.175589Z"
    }
   },
   "outputs": [],
   "source": [
    "max_altitude = test_metadata.loc[test_metadata.measured_altitude == test_metadata.measured_altitude.max()]\n",
    "max_images = max_altitude.image_name\n",
    "\n",
    "show_image(max_images)"
   ]
  },
  {
   "cell_type": "markdown",
   "metadata": {},
   "source": [
    "Images with extreme altitude measurements (e.g. 0 measured altitude, highest altitude measured) were inspected, and although it is apparent that the altitude form which the images were taken vary, they seem to be valid images for analysis. "
   ]
  },
  {
   "cell_type": "markdown",
   "metadata": {},
   "source": [
    "For future use:  \n",
    "- min w = 5472  \n",
    "- min h = 3648  "
   ]
  },
  {
   "cell_type": "markdown",
   "metadata": {},
   "source": [
    "## Creating bounding boxes"
   ]
  },
  {
   "cell_type": "markdown",
   "metadata": {},
   "source": [
    "The annotations provided with the dataset are in forma of an x, y pixel coordinate. Here we will attempt to create bounding boxes out of the information."
   ]
  },
  {
   "cell_type": "code",
   "execution_count": 59,
   "metadata": {
    "ExecuteTime": {
     "end_time": "2019-11-18T02:09:25.447499Z",
     "start_time": "2019-11-18T02:09:25.365560Z"
    }
   },
   "outputs": [
    {
     "data": {
      "text/html": [
       "<div>\n",
       "<style scoped>\n",
       "    .dataframe tbody tr th:only-of-type {\n",
       "        vertical-align: middle;\n",
       "    }\n",
       "\n",
       "    .dataframe tbody tr th {\n",
       "        vertical-align: top;\n",
       "    }\n",
       "\n",
       "    .dataframe thead th {\n",
       "        text-align: right;\n",
       "    }\n",
       "</style>\n",
       "<table border=\"1\" class=\"dataframe\">\n",
       "  <thead>\n",
       "    <tr style=\"text-align: right;\">\n",
       "      <th></th>\n",
       "      <th>image</th>\n",
       "      <th>x</th>\n",
       "      <th>y</th>\n",
       "    </tr>\n",
       "  </thead>\n",
       "  <tbody>\n",
       "    <tr>\n",
       "      <th>0</th>\n",
       "      <td>7c2b5fa7fefd29566bacc3fc14de73d35d64da6c</td>\n",
       "      <td>4294</td>\n",
       "      <td>845</td>\n",
       "    </tr>\n",
       "    <tr>\n",
       "      <th>1</th>\n",
       "      <td>7c2b5fa7fefd29566bacc3fc14de73d35d64da6c</td>\n",
       "      <td>4498</td>\n",
       "      <td>707</td>\n",
       "    </tr>\n",
       "    <tr>\n",
       "      <th>2</th>\n",
       "      <td>a46adbea1faf34cf3ecbad37886b33fb01fd8c63</td>\n",
       "      <td>2781</td>\n",
       "      <td>262</td>\n",
       "    </tr>\n",
       "    <tr>\n",
       "      <th>3</th>\n",
       "      <td>e67a5464acd5bcec0c6b84d0a99961a66981a2ea</td>\n",
       "      <td>626</td>\n",
       "      <td>898</td>\n",
       "    </tr>\n",
       "    <tr>\n",
       "      <th>4</th>\n",
       "      <td>e67a5464acd5bcec0c6b84d0a99961a66981a2ea</td>\n",
       "      <td>574</td>\n",
       "      <td>886</td>\n",
       "    </tr>\n",
       "  </tbody>\n",
       "</table>\n",
       "</div>"
      ],
      "text/plain": [
       "                                      image     x    y\n",
       "0  7c2b5fa7fefd29566bacc3fc14de73d35d64da6c  4294  845\n",
       "1  7c2b5fa7fefd29566bacc3fc14de73d35d64da6c  4498  707\n",
       "2  a46adbea1faf34cf3ecbad37886b33fb01fd8c63  2781  262\n",
       "3  e67a5464acd5bcec0c6b84d0a99961a66981a2ea   626  898\n",
       "4  e67a5464acd5bcec0c6b84d0a99961a66981a2ea   574  886"
      ]
     },
     "execution_count": 59,
     "metadata": {},
     "output_type": "execute_result"
    }
   ],
   "source": [
    "train_label.head()"
   ]
  },
  {
   "cell_type": "code",
   "execution_count": 63,
   "metadata": {
    "ExecuteTime": {
     "end_time": "2019-11-18T02:12:02.729537Z",
     "start_time": "2019-11-18T02:12:02.708143Z"
    }
   },
   "outputs": [],
   "source": [
    "w=5\n",
    "h=5\n",
    "\n",
    "#Training labels \n",
    "train_label['xmin'] = np.array(train_label['x'])-w\n",
    "train_label['xmax'] = np.array(train_label['x'])+w\n",
    "\n",
    "train_label['ymin'] = np.array(train_label['y'])-h\n",
    "train_label['ymax'] = np.array(train_label['y'])+h\n",
    "\n",
    "\n",
    "#Test labels \n",
    "test_label['xmin'] = np.array(test_label['x'])-w\n",
    "test_label['xmax'] = np.array(test_label['x'])+w\n",
    "\n",
    "test_label['ymin'] = np.array(test_label['y'])-h\n",
    "test_label['ymax'] = np.array(test_label['y'])+h\n"
   ]
  },
  {
   "cell_type": "code",
   "execution_count": 65,
   "metadata": {
    "ExecuteTime": {
     "end_time": "2019-11-18T02:13:39.960936Z",
     "start_time": "2019-11-18T02:13:39.936699Z"
    }
   },
   "outputs": [
    {
     "data": {
      "text/html": [
       "<div>\n",
       "<style scoped>\n",
       "    .dataframe tbody tr th:only-of-type {\n",
       "        vertical-align: middle;\n",
       "    }\n",
       "\n",
       "    .dataframe tbody tr th {\n",
       "        vertical-align: top;\n",
       "    }\n",
       "\n",
       "    .dataframe thead th {\n",
       "        text-align: right;\n",
       "    }\n",
       "</style>\n",
       "<table border=\"1\" class=\"dataframe\">\n",
       "  <thead>\n",
       "    <tr style=\"text-align: right;\">\n",
       "      <th></th>\n",
       "      <th>image</th>\n",
       "      <th>x</th>\n",
       "      <th>y</th>\n",
       "      <th>xmin</th>\n",
       "      <th>xmax</th>\n",
       "      <th>ymin</th>\n",
       "      <th>ymax</th>\n",
       "    </tr>\n",
       "  </thead>\n",
       "  <tbody>\n",
       "    <tr>\n",
       "      <th>0</th>\n",
       "      <td>7c2b5fa7fefd29566bacc3fc14de73d35d64da6c</td>\n",
       "      <td>4294</td>\n",
       "      <td>845</td>\n",
       "      <td>4289</td>\n",
       "      <td>4299</td>\n",
       "      <td>840</td>\n",
       "      <td>850</td>\n",
       "    </tr>\n",
       "    <tr>\n",
       "      <th>1</th>\n",
       "      <td>7c2b5fa7fefd29566bacc3fc14de73d35d64da6c</td>\n",
       "      <td>4498</td>\n",
       "      <td>707</td>\n",
       "      <td>4493</td>\n",
       "      <td>4503</td>\n",
       "      <td>702</td>\n",
       "      <td>712</td>\n",
       "    </tr>\n",
       "    <tr>\n",
       "      <th>2</th>\n",
       "      <td>a46adbea1faf34cf3ecbad37886b33fb01fd8c63</td>\n",
       "      <td>2781</td>\n",
       "      <td>262</td>\n",
       "      <td>2776</td>\n",
       "      <td>2786</td>\n",
       "      <td>257</td>\n",
       "      <td>267</td>\n",
       "    </tr>\n",
       "    <tr>\n",
       "      <th>3</th>\n",
       "      <td>e67a5464acd5bcec0c6b84d0a99961a66981a2ea</td>\n",
       "      <td>626</td>\n",
       "      <td>898</td>\n",
       "      <td>621</td>\n",
       "      <td>631</td>\n",
       "      <td>893</td>\n",
       "      <td>903</td>\n",
       "    </tr>\n",
       "    <tr>\n",
       "      <th>4</th>\n",
       "      <td>e67a5464acd5bcec0c6b84d0a99961a66981a2ea</td>\n",
       "      <td>574</td>\n",
       "      <td>886</td>\n",
       "      <td>569</td>\n",
       "      <td>579</td>\n",
       "      <td>881</td>\n",
       "      <td>891</td>\n",
       "    </tr>\n",
       "  </tbody>\n",
       "</table>\n",
       "</div>"
      ],
      "text/plain": [
       "                                      image     x    y  xmin  xmax  ymin  ymax\n",
       "0  7c2b5fa7fefd29566bacc3fc14de73d35d64da6c  4294  845  4289  4299   840   850\n",
       "1  7c2b5fa7fefd29566bacc3fc14de73d35d64da6c  4498  707  4493  4503   702   712\n",
       "2  a46adbea1faf34cf3ecbad37886b33fb01fd8c63  2781  262  2776  2786   257   267\n",
       "3  e67a5464acd5bcec0c6b84d0a99961a66981a2ea   626  898   621   631   893   903\n",
       "4  e67a5464acd5bcec0c6b84d0a99961a66981a2ea   574  886   569   579   881   891"
      ]
     },
     "execution_count": 65,
     "metadata": {},
     "output_type": "execute_result"
    }
   ],
   "source": [
    "train_label.head()"
   ]
  },
  {
   "cell_type": "code",
   "execution_count": null,
   "metadata": {},
   "outputs": [],
   "source": []
  }
 ],
 "metadata": {
  "kernelspec": {
   "display_name": "Python 3",
   "language": "python",
   "name": "python3"
  },
  "language_info": {
   "codemirror_mode": {
    "name": "ipython",
    "version": 3
   },
   "file_extension": ".py",
   "mimetype": "text/x-python",
   "name": "python",
   "nbconvert_exporter": "python",
   "pygments_lexer": "ipython3",
   "version": "3.7.3"
  },
  "toc": {
   "base_numbering": 1,
   "nav_menu": {},
   "number_sections": true,
   "sideBar": true,
   "skip_h1_title": false,
   "title_cell": "Table of Contents",
   "title_sidebar": "Contents",
   "toc_cell": false,
   "toc_position": {},
   "toc_section_display": true,
   "toc_window_display": false
  }
 },
 "nbformat": 4,
 "nbformat_minor": 2
}
